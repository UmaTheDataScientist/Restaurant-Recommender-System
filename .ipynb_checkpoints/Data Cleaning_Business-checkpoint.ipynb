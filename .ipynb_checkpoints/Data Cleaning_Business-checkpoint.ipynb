{
 "cells": [
  {
   "cell_type": "code",
   "execution_count": null,
   "id": "15f54078",
   "metadata": {},
   "outputs": [],
   "source": [
    "import seaborn as sns \n",
    "import pandas as pd\n",
    "import matplotlib.pyplot as plt\n",
    "import json,os\n",
    "import numpy as np\n",
    "import plotly.express as px\n",
    "import plotly.graph_objects as go\n",
    "from collections import Counter\n",
    "# sentiment analysis \n",
    "\n",
    "import warnings\n",
    "warnings.filterwarnings('ignore')\n",
    "import re\n",
    "from wordcloud import WordCloud, STOPWORDS\n",
    "#viz\n",
    "import matplotlib.pyplot as plt\n",
    "import seaborn as sns \n",
    "import matplotlib.gridspec as gridspec \n",
    "\n",
    "# graph viz\n",
    "import plotly.offline as pyo\n",
    "\n",
    "from plotly.graph_objs import *\n",
    "import plotly.graph_objs as go\n",
    "\n",
    "#map section\n",
    "import imageio\n",
    "import folium\n",
    "import folium.plugins as plugins\n",
    "from mpl_toolkits.basemap import Basemap"
   ]
  },
  {
   "cell_type": "markdown",
   "id": "f1b36c7f",
   "metadata": {},
   "source": [
    "## Converting Json files to Dataframe"
   ]
  },
  {
   "cell_type": "markdown",
   "id": "65d3088a",
   "metadata": {},
   "source": [
    "###### Review file"
   ]
  },
  {
   "cell_type": "code",
   "execution_count": null,
   "id": "f2a44802",
   "metadata": {},
   "outputs": [],
   "source": [
    "#since pd.readjson will cause memeory error, we read the file line by line\n",
    "path = 'yelp_academic_dataset_review.json'\n",
    "review = []\n",
    "with open(path, encoding = 'utf-8') as fin:\n",
    "    for line in fin:\n",
    "        line_contents = json.loads(line)\n",
    "        review.append(line_contents)"
   ]
  },
  {
   "cell_type": "code",
   "execution_count": null,
   "id": "89ce0a1a",
   "metadata": {},
   "outputs": [],
   "source": [
    "review = pd.DataFrame(review)\n",
    "review.shape"
   ]
  },
  {
   "cell_type": "code",
   "execution_count": null,
   "id": "6b6f34a2",
   "metadata": {},
   "outputs": [],
   "source": [
    "review.head()"
   ]
  },
  {
   "cell_type": "code",
   "execution_count": null,
   "id": "4be254a5",
   "metadata": {},
   "outputs": [],
   "source": [
    "#review.to_csv('yelp_review.csv')"
   ]
  },
  {
   "cell_type": "markdown",
   "id": "89c1aec9",
   "metadata": {},
   "source": [
    "###### User file"
   ]
  },
  {
   "cell_type": "code",
   "execution_count": null,
   "id": "0c6ae527",
   "metadata": {},
   "outputs": [],
   "source": [
    "#since pd.readjson will cause memeory error, we read the file line by line\n",
    "path = 'yelp_academic_dataset_user.json'\n",
    "user = []\n",
    "with open(path, encoding = 'utf-8') as fin:\n",
    "    for line in fin:\n",
    "        line_contents = json.loads(line)\n",
    "        user.append(line_contents)"
   ]
  },
  {
   "cell_type": "code",
   "execution_count": null,
   "id": "76452bf7",
   "metadata": {},
   "outputs": [],
   "source": [
    "user = pd.DataFrame(user)\n",
    "user.shape"
   ]
  },
  {
   "cell_type": "code",
   "execution_count": null,
   "id": "15c79937",
   "metadata": {},
   "outputs": [],
   "source": [
    "user.head()"
   ]
  },
  {
   "cell_type": "code",
   "execution_count": null,
   "id": "e06aef12",
   "metadata": {},
   "outputs": [],
   "source": [
    "#user.to_csv('yelp_user.csv')"
   ]
  },
  {
   "cell_type": "markdown",
   "id": "b74d2252",
   "metadata": {},
   "source": [
    "###### Business file"
   ]
  },
  {
   "cell_type": "code",
   "execution_count": null,
   "id": "d5a0389f",
   "metadata": {},
   "outputs": [],
   "source": [
    "#since pd.readjson will cause memeory error, we read the file line by line\n",
    "path = 'yelp_academic_dataset_business.json'\n",
    "business = []\n",
    "with open(path, encoding = 'utf-8') as fin:\n",
    "    for line in fin:\n",
    "        line_contents = json.loads(line)\n",
    "        business.append(line_contents)"
   ]
  },
  {
   "cell_type": "code",
   "execution_count": null,
   "id": "122c76ac",
   "metadata": {},
   "outputs": [],
   "source": [
    "business = pd.DataFrame(business)\n",
    "business.shape"
   ]
  },
  {
   "cell_type": "code",
   "execution_count": null,
   "id": "f44b8dd4",
   "metadata": {},
   "outputs": [],
   "source": [
    "business.head()"
   ]
  },
  {
   "cell_type": "code",
   "execution_count": null,
   "id": "6735fdb7",
   "metadata": {},
   "outputs": [],
   "source": [
    "#business.to_csv('yelp_business.csv')"
   ]
  },
  {
   "cell_type": "markdown",
   "id": "12ee040f",
   "metadata": {},
   "source": [
    "## Data Cleaning"
   ]
  },
  {
   "cell_type": "markdown",
   "id": "752894c8",
   "metadata": {},
   "source": [
    "### First we will chek the columns of the business data\n"
   ]
  },
  {
   "cell_type": "code",
   "execution_count": null,
   "id": "c6090f2e",
   "metadata": {},
   "outputs": [],
   "source": [
    "business =pd.read_csv(\"yelp_business.csv\")"
   ]
  },
  {
   "cell_type": "code",
   "execution_count": null,
   "id": "f1f46e51",
   "metadata": {},
   "outputs": [],
   "source": [
    "business.columns"
   ]
  },
  {
   "cell_type": "code",
   "execution_count": null,
   "id": "95d6671b",
   "metadata": {},
   "outputs": [],
   "source": [
    "business.isnull().sum()"
   ]
  },
  {
   "cell_type": "code",
   "execution_count": null,
   "id": "a5e09203",
   "metadata": {},
   "outputs": [],
   "source": [
    "# Taking into the consideration the businesses which are open \n",
    "# 1 = open, 0 = closed\n",
    "business = business[business['is_open']==1]"
   ]
  },
  {
   "cell_type": "code",
   "execution_count": null,
   "id": "8c61ae35",
   "metadata": {},
   "outputs": [],
   "source": [
    "business.isnull().sum()"
   ]
  },
  {
   "cell_type": "code",
   "execution_count": null,
   "id": "82d3d3cf",
   "metadata": {},
   "outputs": [],
   "source": [
    "# let remove the rows for which categories are not mentioned\n",
    "business.dropna(subset=['categories'], inplace=True)"
   ]
  },
  {
   "cell_type": "code",
   "execution_count": null,
   "id": "7b4edb20",
   "metadata": {},
   "outputs": [],
   "source": [
    "business"
   ]
  },
  {
   "cell_type": "code",
   "execution_count": null,
   "id": "906414e2",
   "metadata": {},
   "outputs": [],
   "source": [
    "# Sample it down to only the North America region \n",
    "lon_min, lon_max = -132.714844, -59.589844\n",
    "lat_min, lat_max = 13.976715,56.395664\n",
    "\n",
    "#create the selector\n",
    "idx_NA = (business[\"longitude\"]>lon_min) &\\\n",
    "            (business[\"longitude\"]<lon_max) &\\\n",
    "            (business[\"latitude\"]>lat_min) &\\\n",
    "            (business[\"latitude\"]<lat_max)\n",
    "#apply the selector to subset\n",
    "NA_business=business[idx_NA]\n",
    "\n",
    "#initiate the figure\n",
    "plt.figure(figsize=(12,15))\n",
    "m2 = Basemap(projection='merc',\n",
    "             llcrnrlat=lat_min,\n",
    "             urcrnrlat=lat_max,\n",
    "             llcrnrlon=lon_min,\n",
    "             urcrnrlon=lon_max,\n",
    "             lat_ts=35,\n",
    "             resolution='i')\n",
    "\n",
    "m2.drawcoastlines()\n",
    "m2.drawmapboundary(fill_color='aqua')                # aqua background\n",
    "m2.fillcontinents(color='#11780C',lake_color='aqua')  # dark green land, aqua lakes\n",
    "m2.drawstates(linewidth=0.5, color=\"black\")\n",
    "m2.drawcountries(linewidth=0.5, color=\"w\")              # thin white line for country borders\n",
    "\n",
    "# Plot the data\n",
    "mxy = m2(NA_business[\"longitude\"].tolist(), NA_business[\"latitude\"].tolist())\n",
    "m2.scatter(mxy[0], mxy[1], s=30, c=\"#FB1903\", lw=0, alpha=0.05, zorder =20)\n",
    "\n",
    "plt.title(\"North America Region\")"
   ]
  },
  {
   "cell_type": "code",
   "execution_count": null,
   "id": "ffc1255b",
   "metadata": {},
   "outputs": [],
   "source": [
    "business_overall = business.assign(categories = business.categories.str.split(', ')).explode('categories')\n",
    "cat = business_overall.categories.value_counts()\n",
    "cat = cat.to_frame().reset_index()\n",
    "cat.columns = ['Categories', 'Count']\n",
    "cat"
   ]
  },
  {
   "cell_type": "code",
   "execution_count": null,
   "id": "31377d8e",
   "metadata": {},
   "outputs": [],
   "source": [
    "cat= cat.sort_values(by = 'Count', ascending = False)"
   ]
  },
  {
   "cell_type": "code",
   "execution_count": null,
   "id": "143ff1ed",
   "metadata": {},
   "outputs": [],
   "source": [
    "cat = cat[0:20]\n",
    "objects = list(cat.Categories)\n",
    "y_pos = np.arange(len(objects))\n",
    "Numbers = list(cat.Count)\n",
    "\n",
    "fig = plt.figure(figsize=(20,15))\n",
    "ax = fig.add_subplot(111)\n",
    "plt.bar(y_pos, Numbers, align='center', alpha=1)\n",
    "plt.xticks(y_pos, objects,rotation=90)\n",
    "plt.ylabel('Number of Occurences')\n",
    "plt.title('Top 20 Categories in Yelp dataset')\n",
    "plt.show()"
   ]
  },
  {
   "cell_type": "code",
   "execution_count": null,
   "id": "fc8afc77",
   "metadata": {},
   "outputs": [],
   "source": [
    "business"
   ]
  },
  {
   "cell_type": "code",
   "execution_count": null,
   "id": "39224a70",
   "metadata": {},
   "outputs": [],
   "source": [
    "business.reset_index(inplace=True)"
   ]
  },
  {
   "cell_type": "code",
   "execution_count": null,
   "id": "f95e7a3e",
   "metadata": {},
   "outputs": [],
   "source": [
    "business.drop(columns = ['Unnamed: 0'], inplace =True)"
   ]
  },
  {
   "cell_type": "code",
   "execution_count": null,
   "id": "00c80bfe",
   "metadata": {},
   "outputs": [],
   "source": [
    "b = pd.DataFrame()\n",
    "category_filter = ['Restaurants' , 'Food' , 'Bars' , 'Sandwiches' , 'Pizza' , 'Coffee & Tea', 'Fast Food']\n",
    "for index, row in business.categories.items():\n",
    "    for category in category_filter:\n",
    "        if category in row:\n",
    "            b = b.append(business.iloc[index])\n",
    "            break"
   ]
  },
  {
   "cell_type": "code",
   "execution_count": null,
   "id": "c0c992ab",
   "metadata": {},
   "outputs": [],
   "source": [
    "bus = b\n",
    "bus[\"attributes\"][1]"
   ]
  },
  {
   "cell_type": "code",
   "execution_count": null,
   "id": "e656c825",
   "metadata": {},
   "outputs": [],
   "source": [
    "bus"
   ]
  },
  {
   "cell_type": "markdown",
   "id": "433dbff7",
   "metadata": {},
   "source": [
    "#### Now we shall see the distribution of state in this dataset\n"
   ]
  },
  {
   "cell_type": "code",
   "execution_count": null,
   "id": "77fb9cb5",
   "metadata": {},
   "outputs": [],
   "source": [
    "state_count = bus.state.value_counts()"
   ]
  },
  {
   "cell_type": "code",
   "execution_count": null,
   "id": "81ae0916",
   "metadata": {},
   "outputs": [],
   "source": [
    "state_count = state_count.to_frame().reset_index()\n",
    "state_count.columns = ['State', 'Counts']"
   ]
  },
  {
   "cell_type": "code",
   "execution_count": null,
   "id": "564d1797",
   "metadata": {},
   "outputs": [],
   "source": [
    "objects = list(state_count.State)\n",
    "y_pos = np.arange(len(objects))\n",
    "Numbers = list(state_count.Counts)\n",
    "\n",
    "fig = plt.figure(figsize=(20,10))\n",
    "ax = fig.add_subplot(111)\n",
    "plt.bar(y_pos, Numbers, align='center', alpha=1)\n",
    "plt.xticks(y_pos, objects)\n",
    "plt.ylabel('Number of Occurences')\n",
    "plt.title('Distribution of State in Yelp dataset')\n",
    "plt.show()"
   ]
  },
  {
   "cell_type": "markdown",
   "id": "faa0a258",
   "metadata": {},
   "source": [
    "##### From this, graph, we see the statewise distribution of restaurants. As we can see, this data consists of restaurants present all over the world. For the sake of simplicity, we will focus on the restaurants present in Pennsylvania."
   ]
  },
  {
   "cell_type": "code",
   "execution_count": null,
   "id": "896eabd9",
   "metadata": {},
   "outputs": [],
   "source": [
    "business_in_PA = bus[bus.state == 'PA']"
   ]
  },
  {
   "cell_type": "code",
   "execution_count": null,
   "id": "ae097699",
   "metadata": {},
   "outputs": [],
   "source": [
    "business_in_PA = business_in_PA.reset_index(drop = True)"
   ]
  },
  {
   "cell_type": "code",
   "execution_count": null,
   "id": "87542053",
   "metadata": {},
   "outputs": [],
   "source": [
    "business_in_PA"
   ]
  }
 ],
 "metadata": {
  "kernelspec": {
   "display_name": "Python 3 (ipykernel)",
   "language": "python",
   "name": "python3"
  },
  "language_info": {
   "codemirror_mode": {
    "name": "ipython",
    "version": 3
   },
   "file_extension": ".py",
   "mimetype": "text/x-python",
   "name": "python",
   "nbconvert_exporter": "python",
   "pygments_lexer": "ipython3",
   "version": "3.9.13"
  }
 },
 "nbformat": 4,
 "nbformat_minor": 5
}
