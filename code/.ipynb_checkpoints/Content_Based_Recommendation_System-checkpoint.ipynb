{
 "cells": [
  {
   "cell_type": "code",
   "execution_count": null,
   "metadata": {},
   "outputs": [],
   "source": [
    "import pandas as pd\n",
    "import numpy as np\n",
    "import ast"
   ]
  },
  {
   "cell_type": "code",
   "execution_count": null,
   "metadata": {},
   "outputs": [],
   "source": [
    "# Load in the data\n",
    "business = pd.read_csv('output files/business.csv')\n",
    "review = pd.read_csv('output files/review_PA.csv')\n",
    "user = pd.read_csv('output files/user.csv')"
   ]
  },
  {
   "cell_type": "code",
   "execution_count": null,
   "metadata": {},
   "outputs": [],
   "source": [
    "user.head()"
   ]
  },
  {
   "cell_type": "code",
   "execution_count": null,
   "metadata": {},
   "outputs": [],
   "source": [
    "business.head()"
   ]
  },
  {
   "cell_type": "code",
   "execution_count": null,
   "metadata": {},
   "outputs": [],
   "source": [
    "review.head()"
   ]
  },
  {
   "cell_type": "code",
   "execution_count": null,
   "metadata": {},
   "outputs": [],
   "source": [
    "#merging data \n",
    "merged_data = pd.merge(review, business[[\"city\",\"name\",\"business_id\"]],on=\"business_id\", how=\"left\")"
   ]
  },
  {
   "cell_type": "code",
   "execution_count": null,
   "metadata": {},
   "outputs": [],
   "source": [
    "merged_data"
   ]
  },
  {
   "cell_type": "code",
   "execution_count": null,
   "metadata": {},
   "outputs": [],
   "source": [
    "# Making separate df of Northwales for recommendation system \n",
    "\n",
    "North_Wales = merged_data[merged_data.city == \"North Wales\"]"
   ]
  },
  {
   "cell_type": "code",
   "execution_count": null,
   "metadata": {},
   "outputs": [],
   "source": [
    "print(\"Number of Unique users in review dataset:\",review.user_id.nunique())\n",
    "print(\"Number of Unique stars in review dataset:\",review.stars.nunique())"
   ]
  },
  {
   "cell_type": "code",
   "execution_count": null,
   "metadata": {},
   "outputs": [],
   "source": [
    "rating = North_Wales.copy()\n",
    "rating_mat = rating.pivot_table(index = 'user_id', columns = 'name')\n",
    "rating_mat.columns = rating_mat.columns.droplevel()  # removing level\n",
    "rating_mat.fillna(0, inplace=True) # replacing missing values with 0"
   ]
  },
  {
   "cell_type": "code",
   "execution_count": null,
   "metadata": {},
   "outputs": [],
   "source": [
    "rating_mat.head()"
   ]
  },
  {
   "cell_type": "markdown",
   "metadata": {},
   "source": [
    "## User-Based Collaborative Filtering"
   ]
  },
  {
   "cell_type": "code",
   "execution_count": null,
   "metadata": {},
   "outputs": [],
   "source": [
    "from sklearn.metrics.pairwise import cosine_similarity"
   ]
  },
  {
   "cell_type": "code",
   "execution_count": null,
   "metadata": {},
   "outputs": [],
   "source": [
    "rating_sim = cosine_similarity(rating_mat)\n",
    "rating_sim = pd.DataFrame(rating_mat, index = rating_mat.index, columns = rating_mat.index)"
   ]
  },
  {
   "cell_type": "code",
   "execution_count": null,
   "metadata": {},
   "outputs": [],
   "source": [
    "titles = business.loc[:,['business_id', 'name']]"
   ]
  },
  {
   "cell_type": "code",
   "execution_count": null,
   "metadata": {},
   "outputs": [],
   "source": [
    "# The following function will take in the movie id, then returns the top n recommendations.\n",
    "def print_recommendations(original_item, top_n):\n",
    "    \"\"\"\n",
    "    inputs: original_item <int>: is the id of the item we want to make \n",
    "                                 recommendation for\n",
    "            top_n <int>: number of items we want to recommend for the \n",
    "                         original item\n",
    "    \"\"\"\n",
    "    idx = original_item\n",
    "    print(\"Your original item is\", titles[titles['business_id'] == str(idx)]['name'].values)\n",
    "    recommends = rating_sim.loc[str(idx)].sort_values(ascending = False)[1:].index\n",
    "    for i in range(top_n):\n",
    "        rec_bus = recommends[i]\n",
    "        print(\"my number \", i+1, \" recommendation is \", titles[titles['business_id'] == rec_bus]['name'].values)"
   ]
  },
  {
   "cell_type": "code",
   "execution_count": null,
   "metadata": {},
   "outputs": [],
   "source": [
    "print_recommendations('BBQ Chicken PA', 10)"
   ]
  },
  {
   "cell_type": "code",
   "execution_count": null,
   "metadata": {},
   "outputs": [],
   "source": []
  }
 ],
 "metadata": {
  "kernelspec": {
   "display_name": "Python 3 (ipykernel)",
   "language": "python",
   "name": "python3"
  },
  "language_info": {
   "codemirror_mode": {
    "name": "ipython",
    "version": 3
   },
   "file_extension": ".py",
   "mimetype": "text/x-python",
   "name": "python",
   "nbconvert_exporter": "python",
   "pygments_lexer": "ipython3",
   "version": "3.9.13"
  }
 },
 "nbformat": 4,
 "nbformat_minor": 4
}
