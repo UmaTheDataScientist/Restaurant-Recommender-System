{
 "cells": [
  {
   "cell_type": "markdown",
   "id": "c50c0ab5",
   "metadata": {},
   "source": [
    "# Import Stataments"
   ]
  },
  {
   "cell_type": "code",
   "execution_count": 1,
   "id": "15f54078",
   "metadata": {},
   "outputs": [],
   "source": [
    "#Basec Import Statements\n",
    "import pandas as pd\n",
    "import numpy as np\n",
    "import json\n",
    "\n",
    "#Plot Import Statements\n",
    "import seaborn as sns\n",
    "import matplotlib.pyplot as plt\n",
    "\n",
    "#To Ignore Warnings in Output\n",
    "import warnings\n",
    "warnings.filterwarnings('ignore')"
   ]
  },
  {
   "cell_type": "markdown",
   "id": "f1b36c7f",
   "metadata": {},
   "source": [
    "## Converting Json files to Dataframe"
   ]
  },
  {
   "cell_type": "markdown",
   "id": "65d3088a",
   "metadata": {},
   "source": [
    "###### Review file"
   ]
  },
  {
   "cell_type": "code",
   "execution_count": null,
   "id": "f2a44802",
   "metadata": {},
   "outputs": [],
   "source": [
    "#since pd.readjson will cause memeory error, we read the file line by line\n",
    "path = '../data/input_json_files/yelp_academic_dataset_review.json'\n",
    "review = []\n",
    "with open(path, encoding = 'utf-8') as fin:\n",
    "    for line in fin:\n",
    "        line_contents = json.loads(line)\n",
    "        review.append(line_contents)"
   ]
  },
  {
   "cell_type": "code",
   "execution_count": null,
   "id": "89ce0a1a",
   "metadata": {},
   "outputs": [],
   "source": [
    "review = pd.DataFrame(review)\n",
    "review.shape"
   ]
  },
  {
   "cell_type": "code",
   "execution_count": null,
   "id": "6b6f34a2",
   "metadata": {},
   "outputs": [],
   "source": [
    "review.head()"
   ]
  },
  {
   "cell_type": "code",
   "execution_count": null,
   "id": "6f615601",
   "metadata": {},
   "outputs": [],
   "source": [
    "#Dropping unnecessary columns in review file.\n",
    "review = review.drop(['text','useful','cool', 'date', 'funny'], axis = 1)\n",
    "review.to_csv('../data/output_csv/review.csv',index = False)"
   ]
  },
  {
   "cell_type": "markdown",
   "id": "4edfea4b",
   "metadata": {},
   "source": [
    "###### User file"
   ]
  },
  {
   "cell_type": "code",
   "execution_count": null,
   "id": "ab6286f9",
   "metadata": {},
   "outputs": [],
   "source": [
    "#since pd.readjson will cause memeory error, we read the file line by line\n",
    "path = '../data/input_json_files/yelp_academic_dataset_user.json'\n",
    "user = []\n",
    "with open(path, encoding = 'utf-8') as fin:\n",
    "    for line in fin:\n",
    "        line_contents = json.loads(line)\n",
    "        user.append(line_contents)"
   ]
  },
  {
   "cell_type": "code",
   "execution_count": null,
   "id": "3170d6dc",
   "metadata": {},
   "outputs": [],
   "source": [
    "user = pd.DataFrame(user)\n",
    "user.shape"
   ]
  },
  {
   "cell_type": "code",
   "execution_count": null,
   "id": "9176e62b",
   "metadata": {},
   "outputs": [],
   "source": [
    "user.head()"
   ]
  },
  {
   "cell_type": "code",
   "execution_count": null,
   "id": "aed4aa8f",
   "metadata": {},
   "outputs": [],
   "source": [
    "user.to_csv('../data/output_csv/user.csv',index = False)"
   ]
  }
 ],
 "metadata": {
  "kernelspec": {
   "display_name": "Python 3 (ipykernel)",
   "language": "python",
   "name": "python3"
  },
  "language_info": {
   "codemirror_mode": {
    "name": "ipython",
    "version": 3
   },
   "file_extension": ".py",
   "mimetype": "text/x-python",
   "name": "python",
   "nbconvert_exporter": "python",
   "pygments_lexer": "ipython3",
   "version": "3.9.13"
  }
 },
 "nbformat": 4,
 "nbformat_minor": 5
}
